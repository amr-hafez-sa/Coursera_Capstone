{
    "nbformat_minor": 1, 
    "cells": [
        {
            "source": "<img src='http://www.clker.com/cliparts/v/9/m/j/R/u/toronto-skyline-hi.png' width='50%' height='50%'>", 
            "cell_type": "markdown", 
            "metadata": {}
        },
            {
            "source": "# Business Hunting and Intelligent Advisor.", 
            "cell_type": "markdown", 
            "metadata": {}
        },
        {
            "source": "### Investment intelligent advisor for investors in Toronto", 
            "cell_type": "markdown", 
            "metadata": {}
        }, 
        {
            "source": "<h3>Introduction</h3>", 
            "cell_type": "markdown", 
            "metadata": {}
        }, 
        {
            "source": "Investment in Canada is a very hot topic parcularly in Toronto.\n\nSome people find that it is a very tough job to collect a survey of all investments' types in Tonoto , therfore I have created this intelligent advisor.\n\nThe purpose of this advisor is to dig into all areas of Toronto using FourSquare location and venues information to provide a very nice summary for the investors to help them hunt the most suitable investment to be constructed in order to gain the highest profit.\n\nAudience of this advisor are the business owners who are looking for a great business and profitable investment in Canada and in particular in Toronto.\n\nIn the final report, the investor will be able to identify the lack of certain services across different locations, or even the quality of the provided services using the collected tips in order to provide unique or better services.", 
            "cell_type": "markdown", 
            "metadata": {}
        }, 
        {
            "source": "", 
            "cell_type": "code", 
            "metadata": {}, 
            "outputs": [], 
            "execution_count": null
        }
    ], 
    "metadata": {
        "kernelspec": {
            "display_name": "Python 3.5", 
            "name": "python3", 
            "language": "python"
        }, 
        "language_info": {
            "mimetype": "text/x-python", 
            "nbconvert_exporter": "python", 
            "version": "3.5.5", 
            "name": "python", 
            "file_extension": ".py", 
            "pygments_lexer": "ipython3", 
            "codemirror_mode": {
                "version": 3, 
                "name": "ipython"
            }
        }
    }, 
    "nbformat": 4
}
